{
  "metadata": {
    "language_info": {
      "codemirror_mode": {
        "name": "python",
        "version": 3
      },
      "file_extension": ".py",
      "mimetype": "text/x-python",
      "name": "python",
      "nbconvert_exporter": "python",
      "pygments_lexer": "ipython3",
      "version": "3.8"
    },
    "kernelspec": {
      "name": "python",
      "display_name": "Python (Pyodide)",
      "language": "python"
    }
  },
  "nbformat_minor": 4,
  "nbformat": 4,
  "cells": [
    {
      "cell_type": "markdown",
      "source": "# Project Title: Ad Campaign Analysis and Conversion Prediction\n\n## Project Description:\nIn this data analysis project, we had worked with an ad campaign dataset to perform data preprocessing, exploratory data analysis (EDA), and built a machine learning model for predicting ad campaign conversions. The dataset contains information about various features related to the campaign, including demographic attributes, income, gender, area, and predicted conversion probabilities.",
      "metadata": {}
    },
    {
      "cell_type": "code",
      "source": "import piplite\nawait piplite.install(['ipycytoscape', 'pandas', 'networkx'])\nawait piplite.install(['numpy', 'seaborn', 'matplotlib', 'scikit-learn'])",
      "metadata": {
        "trusted": true
      },
      "execution_count": 3,
      "outputs": []
    },
    {
      "cell_type": "code",
      "source": "import pandas as pd\nfrom sklearn.linear_model import LogisticRegression\nfrom sklearn.linear_model import LinearRegression\nfrom sklearn import preprocessing\nimport numpy as np\nfrom sklearn.neighbors import KNeighborsClassifier\nfrom sklearn.model_selection import GridSearchCV\nfrom sklearn.model_selection import train_test_split\nfrom sklearn.neighbors import KNeighborsClassifier\nfrom sklearn.tree import DecisionTreeClassifier\nfrom sklearn import svm\nfrom sklearn.metrics import jaccard_score\nfrom sklearn.metrics import f1_score\nfrom sklearn.metrics import log_loss\nimport matplotlib.pyplot as plt\nfrom sklearn.metrics import confusion_matrix, accuracy_score\nimport sklearn.metrics as metrics\nimport seaborn as sns\n",
      "metadata": {
        "trusted": true
      },
      "execution_count": 4,
      "outputs": []
    },
    {
      "cell_type": "markdown",
      "source": "## Data Loading and Preprocessing:",
      "metadata": {}
    },
    {
      "cell_type": "markdown",
      "source": "### Initial Data Inspection: \nThis step involves loading the dataset using Pandas and checking its structure and contents using df.head() and df.info().",
      "metadata": {}
    },
    {
      "cell_type": "code",
      "source": "df = pd.read_csv('ad_campaign_data.csv')\ndf.head()",
      "metadata": {
        "trusted": true
      },
      "execution_count": 5,
      "outputs": [
        {
          "execution_count": 5,
          "output_type": "execute_result",
          "data": {
            "text/plain": "  religion politics  college_educated  parents  homeowner   gender    age  \\\n0  Unknown  Unknown                 1        1          1  Unknown  55-64   \n1    Other  Unknown                 1        1          1  Unknown  55-64   \n2  Unknown  Unknown                 1        1          1        F  55-64   \n3  Unknown  Unknown                 1        1          1        F  55-64   \n4  Unknown  Unknown                 1        1          1        F  55-64   \n\n    income     area  true_conversion  predicted_conversion  \\\n0  Unknown  Unknown                0                     0   \n1  Unknown    Urban                0                     0   \n2  Unknown  Unknown                0                     0   \n3  Unknown  Unknown                0                     0   \n4  Unknown    Urban                0                     0   \n\n   predicted_probability  \n0               0.001351  \n1               0.002238  \n2               0.002704  \n3               0.001967  \n4               0.001681  ",
            "text/html": "<div>\n<style scoped>\n    .dataframe tbody tr th:only-of-type {\n        vertical-align: middle;\n    }\n\n    .dataframe tbody tr th {\n        vertical-align: top;\n    }\n\n    .dataframe thead th {\n        text-align: right;\n    }\n</style>\n<table border=\"1\" class=\"dataframe\">\n  <thead>\n    <tr style=\"text-align: right;\">\n      <th></th>\n      <th>religion</th>\n      <th>politics</th>\n      <th>college_educated</th>\n      <th>parents</th>\n      <th>homeowner</th>\n      <th>gender</th>\n      <th>age</th>\n      <th>income</th>\n      <th>area</th>\n      <th>true_conversion</th>\n      <th>predicted_conversion</th>\n      <th>predicted_probability</th>\n    </tr>\n  </thead>\n  <tbody>\n    <tr>\n      <th>0</th>\n      <td>Unknown</td>\n      <td>Unknown</td>\n      <td>1</td>\n      <td>1</td>\n      <td>1</td>\n      <td>Unknown</td>\n      <td>55-64</td>\n      <td>Unknown</td>\n      <td>Unknown</td>\n      <td>0</td>\n      <td>0</td>\n      <td>0.001351</td>\n    </tr>\n    <tr>\n      <th>1</th>\n      <td>Other</td>\n      <td>Unknown</td>\n      <td>1</td>\n      <td>1</td>\n      <td>1</td>\n      <td>Unknown</td>\n      <td>55-64</td>\n      <td>Unknown</td>\n      <td>Urban</td>\n      <td>0</td>\n      <td>0</td>\n      <td>0.002238</td>\n    </tr>\n    <tr>\n      <th>2</th>\n      <td>Unknown</td>\n      <td>Unknown</td>\n      <td>1</td>\n      <td>1</td>\n      <td>1</td>\n      <td>F</td>\n      <td>55-64</td>\n      <td>Unknown</td>\n      <td>Unknown</td>\n      <td>0</td>\n      <td>0</td>\n      <td>0.002704</td>\n    </tr>\n    <tr>\n      <th>3</th>\n      <td>Unknown</td>\n      <td>Unknown</td>\n      <td>1</td>\n      <td>1</td>\n      <td>1</td>\n      <td>F</td>\n      <td>55-64</td>\n      <td>Unknown</td>\n      <td>Unknown</td>\n      <td>0</td>\n      <td>0</td>\n      <td>0.001967</td>\n    </tr>\n    <tr>\n      <th>4</th>\n      <td>Unknown</td>\n      <td>Unknown</td>\n      <td>1</td>\n      <td>1</td>\n      <td>1</td>\n      <td>F</td>\n      <td>55-64</td>\n      <td>Unknown</td>\n      <td>Urban</td>\n      <td>0</td>\n      <td>0</td>\n      <td>0.001681</td>\n    </tr>\n  </tbody>\n</table>\n</div>"
          },
          "metadata": {}
        }
      ]
    },
    {
      "cell_type": "code",
      "source": "df.info()",
      "metadata": {
        "trusted": true
      },
      "execution_count": 6,
      "outputs": [
        {
          "name": "stdout",
          "text": "<class 'pandas.core.frame.DataFrame'>\nRangeIndex: 1443140 entries, 0 to 1443139\nData columns (total 12 columns):\n #   Column                 Non-Null Count    Dtype  \n---  ------                 --------------    -----  \n 0   religion               1443140 non-null  object \n 1   politics               1443140 non-null  object \n 2   college_educated       1443140 non-null  int64  \n 3   parents                1443140 non-null  int64  \n 4   homeowner              1443140 non-null  int64  \n 5   gender                 1443140 non-null  object \n 6   age                    1443140 non-null  object \n 7   income                 1443140 non-null  object \n 8   area                   1443140 non-null  object \n 9   true_conversion        1443140 non-null  int64  \n 10  predicted_conversion   1443140 non-null  int64  \n 11  predicted_probability  1443140 non-null  float64\ndtypes: float64(1), int64(5), object(6)\nmemory usage: 99.1+ MB\n",
          "output_type": "stream"
        }
      ]
    },
    {
      "cell_type": "markdown",
      "source": "### Handling Missing Values: \nYou've addressed missing values by replacing \"Unknown\" values with None and using forward and backward filling for categorical attributes. This ensures the data is ready for analysis and modeling.",
      "metadata": {}
    },
    {
      "cell_type": "code",
      "source": "df.replace(\"Unknown\", None, inplace = True)\ndf",
      "metadata": {
        "trusted": true
      },
      "execution_count": 7,
      "outputs": [
        {
          "execution_count": 7,
          "output_type": "execute_result",
          "data": {
            "text/plain": "        religion politics  college_educated  parents  homeowner gender    age  \\\n0           None     None                 1        1          1   None  55-64   \n1          Other     None                 1        1          1   None  55-64   \n2           None     None                 1        1          1      F  55-64   \n3           None     None                 1        1          1      F  55-64   \n4           None     None                 1        1          1      F  55-64   \n...          ...      ...               ...      ...        ...    ...    ...   \n1443135    Other     None                 1        1          1      F  25-34   \n1443136     None     None                 1        1          0      F  55-64   \n1443137     None     None                 1        1          1   None  55-64   \n1443138     None     None                 1        1          1      F  55-64   \n1443139     None     None                 1        1          1      F  55-64   \n\n        income   area  true_conversion  predicted_conversion  \\\n0         None   None                0                     0   \n1         None  Urban                0                     0   \n2         None   None                0                     0   \n3         None   None                0                     0   \n4         None  Urban                0                     0   \n...        ...    ...              ...                   ...   \n1443135   None   None                0                     0   \n1443136   None   None                0                     0   \n1443137   None   None                0                     0   \n1443138   None   None                0                     0   \n1443139   None   None                0                     0   \n\n         predicted_probability  \n0                     0.001351  \n1                     0.002238  \n2                     0.002704  \n3                     0.001967  \n4                     0.001681  \n...                        ...  \n1443135               0.002318  \n1443136               0.001420  \n1443137               0.002879  \n1443138               0.001905  \n1443139               0.001575  \n\n[1443140 rows x 12 columns]",
            "text/html": "<div>\n<style scoped>\n    .dataframe tbody tr th:only-of-type {\n        vertical-align: middle;\n    }\n\n    .dataframe tbody tr th {\n        vertical-align: top;\n    }\n\n    .dataframe thead th {\n        text-align: right;\n    }\n</style>\n<table border=\"1\" class=\"dataframe\">\n  <thead>\n    <tr style=\"text-align: right;\">\n      <th></th>\n      <th>religion</th>\n      <th>politics</th>\n      <th>college_educated</th>\n      <th>parents</th>\n      <th>homeowner</th>\n      <th>gender</th>\n      <th>age</th>\n      <th>income</th>\n      <th>area</th>\n      <th>true_conversion</th>\n      <th>predicted_conversion</th>\n      <th>predicted_probability</th>\n    </tr>\n  </thead>\n  <tbody>\n    <tr>\n      <th>0</th>\n      <td>None</td>\n      <td>None</td>\n      <td>1</td>\n      <td>1</td>\n      <td>1</td>\n      <td>None</td>\n      <td>55-64</td>\n      <td>None</td>\n      <td>None</td>\n      <td>0</td>\n      <td>0</td>\n      <td>0.001351</td>\n    </tr>\n    <tr>\n      <th>1</th>\n      <td>Other</td>\n      <td>None</td>\n      <td>1</td>\n      <td>1</td>\n      <td>1</td>\n      <td>None</td>\n      <td>55-64</td>\n      <td>None</td>\n      <td>Urban</td>\n      <td>0</td>\n      <td>0</td>\n      <td>0.002238</td>\n    </tr>\n    <tr>\n      <th>2</th>\n      <td>None</td>\n      <td>None</td>\n      <td>1</td>\n      <td>1</td>\n      <td>1</td>\n      <td>F</td>\n      <td>55-64</td>\n      <td>None</td>\n      <td>None</td>\n      <td>0</td>\n      <td>0</td>\n      <td>0.002704</td>\n    </tr>\n    <tr>\n      <th>3</th>\n      <td>None</td>\n      <td>None</td>\n      <td>1</td>\n      <td>1</td>\n      <td>1</td>\n      <td>F</td>\n      <td>55-64</td>\n      <td>None</td>\n      <td>None</td>\n      <td>0</td>\n      <td>0</td>\n      <td>0.001967</td>\n    </tr>\n    <tr>\n      <th>4</th>\n      <td>None</td>\n      <td>None</td>\n      <td>1</td>\n      <td>1</td>\n      <td>1</td>\n      <td>F</td>\n      <td>55-64</td>\n      <td>None</td>\n      <td>Urban</td>\n      <td>0</td>\n      <td>0</td>\n      <td>0.001681</td>\n    </tr>\n    <tr>\n      <th>...</th>\n      <td>...</td>\n      <td>...</td>\n      <td>...</td>\n      <td>...</td>\n      <td>...</td>\n      <td>...</td>\n      <td>...</td>\n      <td>...</td>\n      <td>...</td>\n      <td>...</td>\n      <td>...</td>\n      <td>...</td>\n    </tr>\n    <tr>\n      <th>1443135</th>\n      <td>Other</td>\n      <td>None</td>\n      <td>1</td>\n      <td>1</td>\n      <td>1</td>\n      <td>F</td>\n      <td>25-34</td>\n      <td>None</td>\n      <td>None</td>\n      <td>0</td>\n      <td>0</td>\n      <td>0.002318</td>\n    </tr>\n    <tr>\n      <th>1443136</th>\n      <td>None</td>\n      <td>None</td>\n      <td>1</td>\n      <td>1</td>\n      <td>0</td>\n      <td>F</td>\n      <td>55-64</td>\n      <td>None</td>\n      <td>None</td>\n      <td>0</td>\n      <td>0</td>\n      <td>0.001420</td>\n    </tr>\n    <tr>\n      <th>1443137</th>\n      <td>None</td>\n      <td>None</td>\n      <td>1</td>\n      <td>1</td>\n      <td>1</td>\n      <td>None</td>\n      <td>55-64</td>\n      <td>None</td>\n      <td>None</td>\n      <td>0</td>\n      <td>0</td>\n      <td>0.002879</td>\n    </tr>\n    <tr>\n      <th>1443138</th>\n      <td>None</td>\n      <td>None</td>\n      <td>1</td>\n      <td>1</td>\n      <td>1</td>\n      <td>F</td>\n      <td>55-64</td>\n      <td>None</td>\n      <td>None</td>\n      <td>0</td>\n      <td>0</td>\n      <td>0.001905</td>\n    </tr>\n    <tr>\n      <th>1443139</th>\n      <td>None</td>\n      <td>None</td>\n      <td>1</td>\n      <td>1</td>\n      <td>1</td>\n      <td>F</td>\n      <td>55-64</td>\n      <td>None</td>\n      <td>None</td>\n      <td>0</td>\n      <td>0</td>\n      <td>0.001575</td>\n    </tr>\n  </tbody>\n</table>\n<p>1443140 rows × 12 columns</p>\n</div>"
          },
          "metadata": {}
        }
      ]
    },
    {
      "cell_type": "code",
      "source": "df['income'].value_counts(dropna=False)",
      "metadata": {
        "trusted": true
      },
      "execution_count": 8,
      "outputs": [
        {
          "execution_count": 8,
          "output_type": "execute_result",
          "data": {
            "text/plain": "None     1375624\n<100K      40957\n>100K      26559\nName: income, dtype: int64"
          },
          "metadata": {}
        }
      ]
    },
    {
      "cell_type": "markdown",
      "source": "### Age Calculation and Filling: \nA function get_average_age is applied to calculate the average age from age ranges. This function ensures that age values are numerically represented. Missing age values are filled with the mean age.",
      "metadata": {}
    },
    {
      "cell_type": "code",
      "source": "\ndef get_average_age(age_range):\n    if age_range is not None:\n        age_values = age_range.split('-')\n        return (int(age_values[0]) + int(age_values[1])) / 2\n\ndf['age'] = df['age'].apply(get_average_age)\ndf",
      "metadata": {
        "trusted": true
      },
      "execution_count": 9,
      "outputs": [
        {
          "execution_count": 9,
          "output_type": "execute_result",
          "data": {
            "text/plain": "        religion politics  college_educated  parents  homeowner gender   age  \\\n0           None     None                 1        1          1   None  59.5   \n1          Other     None                 1        1          1   None  59.5   \n2           None     None                 1        1          1      F  59.5   \n3           None     None                 1        1          1      F  59.5   \n4           None     None                 1        1          1      F  59.5   \n...          ...      ...               ...      ...        ...    ...   ...   \n1443135    Other     None                 1        1          1      F  29.5   \n1443136     None     None                 1        1          0      F  59.5   \n1443137     None     None                 1        1          1   None  59.5   \n1443138     None     None                 1        1          1      F  59.5   \n1443139     None     None                 1        1          1      F  59.5   \n\n        income   area  true_conversion  predicted_conversion  \\\n0         None   None                0                     0   \n1         None  Urban                0                     0   \n2         None   None                0                     0   \n3         None   None                0                     0   \n4         None  Urban                0                     0   \n...        ...    ...              ...                   ...   \n1443135   None   None                0                     0   \n1443136   None   None                0                     0   \n1443137   None   None                0                     0   \n1443138   None   None                0                     0   \n1443139   None   None                0                     0   \n\n         predicted_probability  \n0                     0.001351  \n1                     0.002238  \n2                     0.002704  \n3                     0.001967  \n4                     0.001681  \n...                        ...  \n1443135               0.002318  \n1443136               0.001420  \n1443137               0.002879  \n1443138               0.001905  \n1443139               0.001575  \n\n[1443140 rows x 12 columns]",
            "text/html": "<div>\n<style scoped>\n    .dataframe tbody tr th:only-of-type {\n        vertical-align: middle;\n    }\n\n    .dataframe tbody tr th {\n        vertical-align: top;\n    }\n\n    .dataframe thead th {\n        text-align: right;\n    }\n</style>\n<table border=\"1\" class=\"dataframe\">\n  <thead>\n    <tr style=\"text-align: right;\">\n      <th></th>\n      <th>religion</th>\n      <th>politics</th>\n      <th>college_educated</th>\n      <th>parents</th>\n      <th>homeowner</th>\n      <th>gender</th>\n      <th>age</th>\n      <th>income</th>\n      <th>area</th>\n      <th>true_conversion</th>\n      <th>predicted_conversion</th>\n      <th>predicted_probability</th>\n    </tr>\n  </thead>\n  <tbody>\n    <tr>\n      <th>0</th>\n      <td>None</td>\n      <td>None</td>\n      <td>1</td>\n      <td>1</td>\n      <td>1</td>\n      <td>None</td>\n      <td>59.5</td>\n      <td>None</td>\n      <td>None</td>\n      <td>0</td>\n      <td>0</td>\n      <td>0.001351</td>\n    </tr>\n    <tr>\n      <th>1</th>\n      <td>Other</td>\n      <td>None</td>\n      <td>1</td>\n      <td>1</td>\n      <td>1</td>\n      <td>None</td>\n      <td>59.5</td>\n      <td>None</td>\n      <td>Urban</td>\n      <td>0</td>\n      <td>0</td>\n      <td>0.002238</td>\n    </tr>\n    <tr>\n      <th>2</th>\n      <td>None</td>\n      <td>None</td>\n      <td>1</td>\n      <td>1</td>\n      <td>1</td>\n      <td>F</td>\n      <td>59.5</td>\n      <td>None</td>\n      <td>None</td>\n      <td>0</td>\n      <td>0</td>\n      <td>0.002704</td>\n    </tr>\n    <tr>\n      <th>3</th>\n      <td>None</td>\n      <td>None</td>\n      <td>1</td>\n      <td>1</td>\n      <td>1</td>\n      <td>F</td>\n      <td>59.5</td>\n      <td>None</td>\n      <td>None</td>\n      <td>0</td>\n      <td>0</td>\n      <td>0.001967</td>\n    </tr>\n    <tr>\n      <th>4</th>\n      <td>None</td>\n      <td>None</td>\n      <td>1</td>\n      <td>1</td>\n      <td>1</td>\n      <td>F</td>\n      <td>59.5</td>\n      <td>None</td>\n      <td>Urban</td>\n      <td>0</td>\n      <td>0</td>\n      <td>0.001681</td>\n    </tr>\n    <tr>\n      <th>...</th>\n      <td>...</td>\n      <td>...</td>\n      <td>...</td>\n      <td>...</td>\n      <td>...</td>\n      <td>...</td>\n      <td>...</td>\n      <td>...</td>\n      <td>...</td>\n      <td>...</td>\n      <td>...</td>\n      <td>...</td>\n    </tr>\n    <tr>\n      <th>1443135</th>\n      <td>Other</td>\n      <td>None</td>\n      <td>1</td>\n      <td>1</td>\n      <td>1</td>\n      <td>F</td>\n      <td>29.5</td>\n      <td>None</td>\n      <td>None</td>\n      <td>0</td>\n      <td>0</td>\n      <td>0.002318</td>\n    </tr>\n    <tr>\n      <th>1443136</th>\n      <td>None</td>\n      <td>None</td>\n      <td>1</td>\n      <td>1</td>\n      <td>0</td>\n      <td>F</td>\n      <td>59.5</td>\n      <td>None</td>\n      <td>None</td>\n      <td>0</td>\n      <td>0</td>\n      <td>0.001420</td>\n    </tr>\n    <tr>\n      <th>1443137</th>\n      <td>None</td>\n      <td>None</td>\n      <td>1</td>\n      <td>1</td>\n      <td>1</td>\n      <td>None</td>\n      <td>59.5</td>\n      <td>None</td>\n      <td>None</td>\n      <td>0</td>\n      <td>0</td>\n      <td>0.002879</td>\n    </tr>\n    <tr>\n      <th>1443138</th>\n      <td>None</td>\n      <td>None</td>\n      <td>1</td>\n      <td>1</td>\n      <td>1</td>\n      <td>F</td>\n      <td>59.5</td>\n      <td>None</td>\n      <td>None</td>\n      <td>0</td>\n      <td>0</td>\n      <td>0.001905</td>\n    </tr>\n    <tr>\n      <th>1443139</th>\n      <td>None</td>\n      <td>None</td>\n      <td>1</td>\n      <td>1</td>\n      <td>1</td>\n      <td>F</td>\n      <td>59.5</td>\n      <td>None</td>\n      <td>None</td>\n      <td>0</td>\n      <td>0</td>\n      <td>0.001575</td>\n    </tr>\n  </tbody>\n</table>\n<p>1443140 rows × 12 columns</p>\n</div>"
          },
          "metadata": {}
        }
      ]
    },
    {
      "cell_type": "code",
      "source": "df['age'].fillna(df['age'].mean(), inplace=True)\ndf['age'].value_counts(dropna=False)\ndf",
      "metadata": {
        "trusted": true
      },
      "execution_count": 10,
      "outputs": [
        {
          "execution_count": 10,
          "output_type": "execute_result",
          "data": {
            "text/plain": "        religion politics  college_educated  parents  homeowner gender   age  \\\n0           None     None                 1        1          1   None  59.5   \n1          Other     None                 1        1          1   None  59.5   \n2           None     None                 1        1          1      F  59.5   \n3           None     None                 1        1          1      F  59.5   \n4           None     None                 1        1          1      F  59.5   \n...          ...      ...               ...      ...        ...    ...   ...   \n1443135    Other     None                 1        1          1      F  29.5   \n1443136     None     None                 1        1          0      F  59.5   \n1443137     None     None                 1        1          1   None  59.5   \n1443138     None     None                 1        1          1      F  59.5   \n1443139     None     None                 1        1          1      F  59.5   \n\n        income   area  true_conversion  predicted_conversion  \\\n0         None   None                0                     0   \n1         None  Urban                0                     0   \n2         None   None                0                     0   \n3         None   None                0                     0   \n4         None  Urban                0                     0   \n...        ...    ...              ...                   ...   \n1443135   None   None                0                     0   \n1443136   None   None                0                     0   \n1443137   None   None                0                     0   \n1443138   None   None                0                     0   \n1443139   None   None                0                     0   \n\n         predicted_probability  \n0                     0.001351  \n1                     0.002238  \n2                     0.002704  \n3                     0.001967  \n4                     0.001681  \n...                        ...  \n1443135               0.002318  \n1443136               0.001420  \n1443137               0.002879  \n1443138               0.001905  \n1443139               0.001575  \n\n[1443140 rows x 12 columns]",
            "text/html": "<div>\n<style scoped>\n    .dataframe tbody tr th:only-of-type {\n        vertical-align: middle;\n    }\n\n    .dataframe tbody tr th {\n        vertical-align: top;\n    }\n\n    .dataframe thead th {\n        text-align: right;\n    }\n</style>\n<table border=\"1\" class=\"dataframe\">\n  <thead>\n    <tr style=\"text-align: right;\">\n      <th></th>\n      <th>religion</th>\n      <th>politics</th>\n      <th>college_educated</th>\n      <th>parents</th>\n      <th>homeowner</th>\n      <th>gender</th>\n      <th>age</th>\n      <th>income</th>\n      <th>area</th>\n      <th>true_conversion</th>\n      <th>predicted_conversion</th>\n      <th>predicted_probability</th>\n    </tr>\n  </thead>\n  <tbody>\n    <tr>\n      <th>0</th>\n      <td>None</td>\n      <td>None</td>\n      <td>1</td>\n      <td>1</td>\n      <td>1</td>\n      <td>None</td>\n      <td>59.5</td>\n      <td>None</td>\n      <td>None</td>\n      <td>0</td>\n      <td>0</td>\n      <td>0.001351</td>\n    </tr>\n    <tr>\n      <th>1</th>\n      <td>Other</td>\n      <td>None</td>\n      <td>1</td>\n      <td>1</td>\n      <td>1</td>\n      <td>None</td>\n      <td>59.5</td>\n      <td>None</td>\n      <td>Urban</td>\n      <td>0</td>\n      <td>0</td>\n      <td>0.002238</td>\n    </tr>\n    <tr>\n      <th>2</th>\n      <td>None</td>\n      <td>None</td>\n      <td>1</td>\n      <td>1</td>\n      <td>1</td>\n      <td>F</td>\n      <td>59.5</td>\n      <td>None</td>\n      <td>None</td>\n      <td>0</td>\n      <td>0</td>\n      <td>0.002704</td>\n    </tr>\n    <tr>\n      <th>3</th>\n      <td>None</td>\n      <td>None</td>\n      <td>1</td>\n      <td>1</td>\n      <td>1</td>\n      <td>F</td>\n      <td>59.5</td>\n      <td>None</td>\n      <td>None</td>\n      <td>0</td>\n      <td>0</td>\n      <td>0.001967</td>\n    </tr>\n    <tr>\n      <th>4</th>\n      <td>None</td>\n      <td>None</td>\n      <td>1</td>\n      <td>1</td>\n      <td>1</td>\n      <td>F</td>\n      <td>59.5</td>\n      <td>None</td>\n      <td>Urban</td>\n      <td>0</td>\n      <td>0</td>\n      <td>0.001681</td>\n    </tr>\n    <tr>\n      <th>...</th>\n      <td>...</td>\n      <td>...</td>\n      <td>...</td>\n      <td>...</td>\n      <td>...</td>\n      <td>...</td>\n      <td>...</td>\n      <td>...</td>\n      <td>...</td>\n      <td>...</td>\n      <td>...</td>\n      <td>...</td>\n    </tr>\n    <tr>\n      <th>1443135</th>\n      <td>Other</td>\n      <td>None</td>\n      <td>1</td>\n      <td>1</td>\n      <td>1</td>\n      <td>F</td>\n      <td>29.5</td>\n      <td>None</td>\n      <td>None</td>\n      <td>0</td>\n      <td>0</td>\n      <td>0.002318</td>\n    </tr>\n    <tr>\n      <th>1443136</th>\n      <td>None</td>\n      <td>None</td>\n      <td>1</td>\n      <td>1</td>\n      <td>0</td>\n      <td>F</td>\n      <td>59.5</td>\n      <td>None</td>\n      <td>None</td>\n      <td>0</td>\n      <td>0</td>\n      <td>0.001420</td>\n    </tr>\n    <tr>\n      <th>1443137</th>\n      <td>None</td>\n      <td>None</td>\n      <td>1</td>\n      <td>1</td>\n      <td>1</td>\n      <td>None</td>\n      <td>59.5</td>\n      <td>None</td>\n      <td>None</td>\n      <td>0</td>\n      <td>0</td>\n      <td>0.002879</td>\n    </tr>\n    <tr>\n      <th>1443138</th>\n      <td>None</td>\n      <td>None</td>\n      <td>1</td>\n      <td>1</td>\n      <td>1</td>\n      <td>F</td>\n      <td>59.5</td>\n      <td>None</td>\n      <td>None</td>\n      <td>0</td>\n      <td>0</td>\n      <td>0.001905</td>\n    </tr>\n    <tr>\n      <th>1443139</th>\n      <td>None</td>\n      <td>None</td>\n      <td>1</td>\n      <td>1</td>\n      <td>1</td>\n      <td>F</td>\n      <td>59.5</td>\n      <td>None</td>\n      <td>None</td>\n      <td>0</td>\n      <td>0</td>\n      <td>0.001575</td>\n    </tr>\n  </tbody>\n</table>\n<p>1443140 rows × 12 columns</p>\n</div>"
          },
          "metadata": {}
        }
      ]
    },
    {
      "cell_type": "markdown",
      "source": "### Gender Prediction Model:\n\n#### Logistic Regression for Gender Prediction: \nA logistic regression model is built to predict gender based on features like age, homeowner status, parent status, and college education.\n",
      "metadata": {}
    },
    {
      "cell_type": "code",
      "source": "known_gender_data = df[df['gender'].notnull()]\nunknown_gender_data = df[df['gender'].isnull()]\nunknown_gender_data",
      "metadata": {
        "trusted": true
      },
      "execution_count": 11,
      "outputs": [
        {
          "execution_count": 11,
          "output_type": "execute_result",
          "data": {
            "text/plain": "             religion politics  college_educated  parents  homeowner gender  \\\n0                None     None                 1        1          1   None   \n1               Other     None                 1        1          1   None   \n12       Christianity     None                 1        1          1   None   \n13               None     None                 1        1          1   None   \n17               None     None                 1        1          1   None   \n...               ...      ...               ...      ...        ...    ...   \n1443130         Other     None                 1        1          1   None   \n1443131          None     None                 1        1          1   None   \n1443133  Christianity     None                 0        1          1   None   \n1443134         Other     None                 1        1          1   None   \n1443137          None     None                 1        1          1   None   \n\n               age income   area  true_conversion  predicted_conversion  \\\n0        59.500000   None   None                0                     0   \n1        59.500000   None  Urban                0                     0   \n12       59.500000   None   None                0                     0   \n13       59.500000   None   None                0                     0   \n17       59.500000   None   None                0                     0   \n...            ...    ...    ...              ...                   ...   \n1443130  59.500000   None  Rural                0                     0   \n1443131  59.500000   None   None                0                     0   \n1443133  59.500000   None   None                0                     0   \n1443134  58.730928   None   None                0                     0   \n1443137  59.500000   None   None                0                     0   \n\n         predicted_probability  \n0                     0.001351  \n1                     0.002238  \n12                    0.031544  \n13                    0.000582  \n17                    0.001950  \n...                        ...  \n1443130               0.005252  \n1443131               0.001031  \n1443133               0.002815  \n1443134               0.002564  \n1443137               0.002879  \n\n[528824 rows x 12 columns]",
            "text/html": "<div>\n<style scoped>\n    .dataframe tbody tr th:only-of-type {\n        vertical-align: middle;\n    }\n\n    .dataframe tbody tr th {\n        vertical-align: top;\n    }\n\n    .dataframe thead th {\n        text-align: right;\n    }\n</style>\n<table border=\"1\" class=\"dataframe\">\n  <thead>\n    <tr style=\"text-align: right;\">\n      <th></th>\n      <th>religion</th>\n      <th>politics</th>\n      <th>college_educated</th>\n      <th>parents</th>\n      <th>homeowner</th>\n      <th>gender</th>\n      <th>age</th>\n      <th>income</th>\n      <th>area</th>\n      <th>true_conversion</th>\n      <th>predicted_conversion</th>\n      <th>predicted_probability</th>\n    </tr>\n  </thead>\n  <tbody>\n    <tr>\n      <th>0</th>\n      <td>None</td>\n      <td>None</td>\n      <td>1</td>\n      <td>1</td>\n      <td>1</td>\n      <td>None</td>\n      <td>59.500000</td>\n      <td>None</td>\n      <td>None</td>\n      <td>0</td>\n      <td>0</td>\n      <td>0.001351</td>\n    </tr>\n    <tr>\n      <th>1</th>\n      <td>Other</td>\n      <td>None</td>\n      <td>1</td>\n      <td>1</td>\n      <td>1</td>\n      <td>None</td>\n      <td>59.500000</td>\n      <td>None</td>\n      <td>Urban</td>\n      <td>0</td>\n      <td>0</td>\n      <td>0.002238</td>\n    </tr>\n    <tr>\n      <th>12</th>\n      <td>Christianity</td>\n      <td>None</td>\n      <td>1</td>\n      <td>1</td>\n      <td>1</td>\n      <td>None</td>\n      <td>59.500000</td>\n      <td>None</td>\n      <td>None</td>\n      <td>0</td>\n      <td>0</td>\n      <td>0.031544</td>\n    </tr>\n    <tr>\n      <th>13</th>\n      <td>None</td>\n      <td>None</td>\n      <td>1</td>\n      <td>1</td>\n      <td>1</td>\n      <td>None</td>\n      <td>59.500000</td>\n      <td>None</td>\n      <td>None</td>\n      <td>0</td>\n      <td>0</td>\n      <td>0.000582</td>\n    </tr>\n    <tr>\n      <th>17</th>\n      <td>None</td>\n      <td>None</td>\n      <td>1</td>\n      <td>1</td>\n      <td>1</td>\n      <td>None</td>\n      <td>59.500000</td>\n      <td>None</td>\n      <td>None</td>\n      <td>0</td>\n      <td>0</td>\n      <td>0.001950</td>\n    </tr>\n    <tr>\n      <th>...</th>\n      <td>...</td>\n      <td>...</td>\n      <td>...</td>\n      <td>...</td>\n      <td>...</td>\n      <td>...</td>\n      <td>...</td>\n      <td>...</td>\n      <td>...</td>\n      <td>...</td>\n      <td>...</td>\n      <td>...</td>\n    </tr>\n    <tr>\n      <th>1443130</th>\n      <td>Other</td>\n      <td>None</td>\n      <td>1</td>\n      <td>1</td>\n      <td>1</td>\n      <td>None</td>\n      <td>59.500000</td>\n      <td>None</td>\n      <td>Rural</td>\n      <td>0</td>\n      <td>0</td>\n      <td>0.005252</td>\n    </tr>\n    <tr>\n      <th>1443131</th>\n      <td>None</td>\n      <td>None</td>\n      <td>1</td>\n      <td>1</td>\n      <td>1</td>\n      <td>None</td>\n      <td>59.500000</td>\n      <td>None</td>\n      <td>None</td>\n      <td>0</td>\n      <td>0</td>\n      <td>0.001031</td>\n    </tr>\n    <tr>\n      <th>1443133</th>\n      <td>Christianity</td>\n      <td>None</td>\n      <td>0</td>\n      <td>1</td>\n      <td>1</td>\n      <td>None</td>\n      <td>59.500000</td>\n      <td>None</td>\n      <td>None</td>\n      <td>0</td>\n      <td>0</td>\n      <td>0.002815</td>\n    </tr>\n    <tr>\n      <th>1443134</th>\n      <td>Other</td>\n      <td>None</td>\n      <td>1</td>\n      <td>1</td>\n      <td>1</td>\n      <td>None</td>\n      <td>58.730928</td>\n      <td>None</td>\n      <td>None</td>\n      <td>0</td>\n      <td>0</td>\n      <td>0.002564</td>\n    </tr>\n    <tr>\n      <th>1443137</th>\n      <td>None</td>\n      <td>None</td>\n      <td>1</td>\n      <td>1</td>\n      <td>1</td>\n      <td>None</td>\n      <td>59.500000</td>\n      <td>None</td>\n      <td>None</td>\n      <td>0</td>\n      <td>0</td>\n      <td>0.002879</td>\n    </tr>\n  </tbody>\n</table>\n<p>528824 rows × 12 columns</p>\n</div>"
          },
          "metadata": {}
        }
      ]
    },
    {
      "cell_type": "code",
      "source": "selected_features = ['age', 'homeowner', 'parents', 'college_educated']",
      "metadata": {
        "trusted": true
      },
      "execution_count": 12,
      "outputs": []
    },
    {
      "cell_type": "markdown",
      "source": "#### Data Splitting and Training: \nThe dataset is split into training and testing sets using train_test_split. The logistic regression model is trained using the training data.\n",
      "metadata": {}
    },
    {
      "cell_type": "code",
      "source": "X_train, X_test, y_train, y_test = train_test_split(known_gender_data[selected_features], known_gender_data['gender'], test_size=0.2, random_state=42)",
      "metadata": {
        "trusted": true
      },
      "execution_count": 13,
      "outputs": []
    },
    {
      "cell_type": "code",
      "source": "model = LogisticRegression()\nmodel.fit(X_train, y_train)",
      "metadata": {
        "trusted": true
      },
      "execution_count": 14,
      "outputs": [
        {
          "execution_count": 14,
          "output_type": "execute_result",
          "data": {
            "text/plain": "LogisticRegression()",
            "text/html": "<style>#sk-container-id-1 {color: black;background-color: white;}#sk-container-id-1 pre{padding: 0;}#sk-container-id-1 div.sk-toggleable {background-color: white;}#sk-container-id-1 label.sk-toggleable__label {cursor: pointer;display: block;width: 100%;margin-bottom: 0;padding: 0.3em;box-sizing: border-box;text-align: center;}#sk-container-id-1 label.sk-toggleable__label-arrow:before {content: \"▸\";float: left;margin-right: 0.25em;color: #696969;}#sk-container-id-1 label.sk-toggleable__label-arrow:hover:before {color: black;}#sk-container-id-1 div.sk-estimator:hover label.sk-toggleable__label-arrow:before {color: black;}#sk-container-id-1 div.sk-toggleable__content {max-height: 0;max-width: 0;overflow: hidden;text-align: left;background-color: #f0f8ff;}#sk-container-id-1 div.sk-toggleable__content pre {margin: 0.2em;color: black;border-radius: 0.25em;background-color: #f0f8ff;}#sk-container-id-1 input.sk-toggleable__control:checked~div.sk-toggleable__content {max-height: 200px;max-width: 100%;overflow: auto;}#sk-container-id-1 input.sk-toggleable__control:checked~label.sk-toggleable__label-arrow:before {content: \"▾\";}#sk-container-id-1 div.sk-estimator input.sk-toggleable__control:checked~label.sk-toggleable__label {background-color: #d4ebff;}#sk-container-id-1 div.sk-label input.sk-toggleable__control:checked~label.sk-toggleable__label {background-color: #d4ebff;}#sk-container-id-1 input.sk-hidden--visually {border: 0;clip: rect(1px 1px 1px 1px);clip: rect(1px, 1px, 1px, 1px);height: 1px;margin: -1px;overflow: hidden;padding: 0;position: absolute;width: 1px;}#sk-container-id-1 div.sk-estimator {font-family: monospace;background-color: #f0f8ff;border: 1px dotted black;border-radius: 0.25em;box-sizing: border-box;margin-bottom: 0.5em;}#sk-container-id-1 div.sk-estimator:hover {background-color: #d4ebff;}#sk-container-id-1 div.sk-parallel-item::after {content: \"\";width: 100%;border-bottom: 1px solid gray;flex-grow: 1;}#sk-container-id-1 div.sk-label:hover label.sk-toggleable__label {background-color: #d4ebff;}#sk-container-id-1 div.sk-serial::before {content: \"\";position: absolute;border-left: 1px solid gray;box-sizing: border-box;top: 0;bottom: 0;left: 50%;z-index: 0;}#sk-container-id-1 div.sk-serial {display: flex;flex-direction: column;align-items: center;background-color: white;padding-right: 0.2em;padding-left: 0.2em;position: relative;}#sk-container-id-1 div.sk-item {position: relative;z-index: 1;}#sk-container-id-1 div.sk-parallel {display: flex;align-items: stretch;justify-content: center;background-color: white;position: relative;}#sk-container-id-1 div.sk-item::before, #sk-container-id-1 div.sk-parallel-item::before {content: \"\";position: absolute;border-left: 1px solid gray;box-sizing: border-box;top: 0;bottom: 0;left: 50%;z-index: -1;}#sk-container-id-1 div.sk-parallel-item {display: flex;flex-direction: column;z-index: 1;position: relative;background-color: white;}#sk-container-id-1 div.sk-parallel-item:first-child::after {align-self: flex-end;width: 50%;}#sk-container-id-1 div.sk-parallel-item:last-child::after {align-self: flex-start;width: 50%;}#sk-container-id-1 div.sk-parallel-item:only-child::after {width: 0;}#sk-container-id-1 div.sk-dashed-wrapped {border: 1px dashed gray;margin: 0 0.4em 0.5em 0.4em;box-sizing: border-box;padding-bottom: 0.4em;background-color: white;}#sk-container-id-1 div.sk-label label {font-family: monospace;font-weight: bold;display: inline-block;line-height: 1.2em;}#sk-container-id-1 div.sk-label-container {text-align: center;}#sk-container-id-1 div.sk-container {/* jupyter's `normalize.less` sets `[hidden] { display: none; }` but bootstrap.min.css set `[hidden] { display: none !important; }` so we also need the `!important` here to be able to override the default hidden behavior on the sphinx rendered scikit-learn.org. See: https://github.com/scikit-learn/scikit-learn/issues/21755 */display: inline-block !important;position: relative;}#sk-container-id-1 div.sk-text-repr-fallback {display: none;}</style><div id=\"sk-container-id-1\" class=\"sk-top-container\"><div class=\"sk-text-repr-fallback\"><pre>LogisticRegression()</pre><b>In a Jupyter environment, please rerun this cell to show the HTML representation or trust the notebook. <br />On GitHub, the HTML representation is unable to render, please try loading this page with nbviewer.org.</b></div><div class=\"sk-container\" hidden><div class=\"sk-item\"><div class=\"sk-estimator sk-toggleable\"><input class=\"sk-toggleable__control sk-hidden--visually\" id=\"sk-estimator-id-1\" type=\"checkbox\" checked><label for=\"sk-estimator-id-1\" class=\"sk-toggleable__label sk-toggleable__label-arrow\">LogisticRegression</label><div class=\"sk-toggleable__content\"><pre>LogisticRegression()</pre></div></div></div></div></div>"
          },
          "metadata": {}
        }
      ]
    },
    {
      "cell_type": "markdown",
      "source": "#### Model Evaluation: \nThe trained model's accuracy is evaluated on the testing data using the accuracy_score metric. This provides an indication of how well the model performs in predicting gender.\n",
      "metadata": {}
    },
    {
      "cell_type": "code",
      "source": "y_pred = model.predict(X_test)\naccuracy = accuracy_score(y_test, y_pred)\naccuracy",
      "metadata": {
        "trusted": true
      },
      "execution_count": 15,
      "outputs": [
        {
          "execution_count": 15,
          "output_type": "execute_result",
          "data": {
            "text/plain": "0.6548691924052849"
          },
          "metadata": {}
        }
      ]
    },
    {
      "cell_type": "markdown",
      "source": "#### Predicting Missing Gender Values: \nThe trained model is used to predict missing gender values in the dataset, enhancing the completeness of the data.",
      "metadata": {}
    },
    {
      "cell_type": "code",
      "source": "unknown_df = df[df['gender'].isnull()]\npredictions = model.predict(unknown_df[selected_features])\npredictions",
      "metadata": {
        "trusted": true
      },
      "execution_count": 16,
      "outputs": [
        {
          "execution_count": 16,
          "output_type": "execute_result",
          "data": {
            "text/plain": "array(['F', 'F', 'F', ..., 'F', 'F', 'F'], dtype=object)"
          },
          "metadata": {}
        }
      ]
    },
    {
      "cell_type": "code",
      "source": "# replace missing gender values with predicted values \ngender = pd.DataFrame(predictions, columns = ['Gender'])\n\ncount = 0 \nfor i in range(len(df)):\n    if df.loc[i, 'gender'] == None:\n        df.loc[i, 'gender'] = gender.loc[count, 'Gender']\n        count+=1\n    ",
      "metadata": {
        "trusted": true
      },
      "execution_count": null,
      "outputs": []
    },
    {
      "cell_type": "code",
      "source": "df.head()",
      "metadata": {
        "trusted": true
      },
      "execution_count": null,
      "outputs": []
    },
    {
      "cell_type": "code",
      "source": "df['gender'].value_counts(dropna = False)",
      "metadata": {
        "trusted": true
      },
      "execution_count": null,
      "outputs": []
    },
    {
      "cell_type": "markdown",
      "source": "### Income & Area Category Correction: \nInconsistent income and Area category values are corrected using replace and fillna methods to ensure consistency and accuracy.",
      "metadata": {}
    },
    {
      "cell_type": "code",
      "source": "df['income'].value_counts(dropna = False)",
      "metadata": {
        "trusted": true
      },
      "execution_count": null,
      "outputs": []
    },
    {
      "cell_type": "code",
      "source": "df['income'].fillna(\"<100K\" , inplace = True)",
      "metadata": {
        "trusted": true
      },
      "execution_count": null,
      "outputs": []
    },
    {
      "cell_type": "code",
      "source": "df.head()",
      "metadata": {
        "trusted": true
      },
      "execution_count": null,
      "outputs": []
    },
    {
      "cell_type": "code",
      "source": "df['income'].replace(to_replace=\"<100k\",\n           value=\"<100K\", inplace = True)",
      "metadata": {
        "trusted": true
      },
      "execution_count": null,
      "outputs": []
    },
    {
      "cell_type": "code",
      "source": "df['income'].value_counts(dropna = False)",
      "metadata": {
        "trusted": true
      },
      "execution_count": null,
      "outputs": []
    },
    {
      "cell_type": "code",
      "source": "df",
      "metadata": {
        "trusted": true
      },
      "execution_count": null,
      "outputs": []
    },
    {
      "cell_type": "code",
      "source": "df['area'].value_counts(dropna = False)",
      "metadata": {
        "trusted": true
      },
      "execution_count": null,
      "outputs": []
    },
    {
      "cell_type": "code",
      "source": "df['area'].fillna(method = 'bfill', inplace = True)",
      "metadata": {
        "trusted": true
      },
      "execution_count": null,
      "outputs": []
    },
    {
      "cell_type": "code",
      "source": "df['area'].value_counts(dropna = False)",
      "metadata": {
        "trusted": true
      },
      "execution_count": null,
      "outputs": []
    },
    {
      "cell_type": "code",
      "source": "df['area'].fillna(method = 'ffill', inplace = True)",
      "metadata": {
        "trusted": true
      },
      "execution_count": null,
      "outputs": []
    },
    {
      "cell_type": "code",
      "source": "df['area'].value_counts(dropna = False)",
      "metadata": {
        "trusted": true
      },
      "execution_count": null,
      "outputs": []
    },
    {
      "cell_type": "code",
      "source": "df",
      "metadata": {
        "trusted": true
      },
      "execution_count": null,
      "outputs": []
    },
    {
      "cell_type": "code",
      "source": "df.dtypes",
      "metadata": {
        "trusted": true
      },
      "execution_count": null,
      "outputs": []
    },
    {
      "cell_type": "markdown",
      "source": "## Exploratory Data Analysis (EDA):\n#### Visual Insights: \nUtilizing Seaborn and Matplotlib, various visualization techniques are employed to uncover insights. This includes count plots, pie charts, histograms, box plots, and scatter plots.\n#### Data Distribution and Relationships: \nThe visualizations provide a visual understanding of the distribution of features, relationships between variables, and potential patterns within the data.\n#### Evaluating Gender Balance: \nGender distribution is analyzed using pie charts and count plots, allowing for insights into the representation of gender in the dataset.\n#### Age Distribution and Income Variation: \nHistograms and scatter plots showcase the age distribution and income trends, helping to identify potential correlations between age and income.",
      "metadata": {}
    },
    {
      "cell_type": "code",
      "source": "# Bar plot for categorical variables\nsns.countplot(x='college_educated', data=df)\nplt.show()\n",
      "metadata": {
        "trusted": true
      },
      "execution_count": null,
      "outputs": []
    },
    {
      "cell_type": "code",
      "source": "# Pie chart for 'gender'\ndf['gender'].value_counts().plot(kind='pie', autopct='%1.1f%%')\nplt.axis('equal')\nplt.show()",
      "metadata": {
        "trusted": true
      },
      "execution_count": null,
      "outputs": []
    },
    {
      "cell_type": "code",
      "source": "# Histogram for 'age'\nsns.histplot(df['age'], kde=True)\nplt.show()",
      "metadata": {
        "trusted": true
      },
      "execution_count": null,
      "outputs": []
    },
    {
      "cell_type": "code",
      "source": "# Box plot for 'income'\nsns.boxplot(x='income', y='age', data=df)\nplt.show()",
      "metadata": {
        "trusted": true
      },
      "execution_count": null,
      "outputs": []
    },
    {
      "cell_type": "code",
      "source": "# Scatter plot for 'age' vs. 'income'\nsns.scatterplot(x='age', y='income', data=df, hue='true_conversion')\nplt.show()",
      "metadata": {
        "trusted": true
      },
      "execution_count": null,
      "outputs": []
    },
    {
      "cell_type": "code",
      "source": "# Bar plot for binary categorical variables\nsns.countplot(x='true_conversion', data=df)\nplt.show()",
      "metadata": {
        "trusted": true
      },
      "execution_count": null,
      "outputs": []
    },
    {
      "cell_type": "code",
      "source": "# Box plot for 'age' across 'college_educated'\nsns.boxplot(x='college_educated', y='age', data=df)\nplt.show()",
      "metadata": {
        "trusted": true
      },
      "execution_count": null,
      "outputs": []
    },
    {
      "cell_type": "code",
      "source": "# Pair plot for numeric variables\nsns.pairplot(df[['age', 'income', 'predicted_probability']])\nplt.show()",
      "metadata": {
        "trusted": true
      },
      "execution_count": null,
      "outputs": []
    },
    {
      "cell_type": "code",
      "source": "# Bar plot for True Conversion vs. Predicted Conversion\nsns.countplot(x='true_conversion', hue='predicted_conversion', data=df)\nplt.show()",
      "metadata": {
        "trusted": true
      },
      "execution_count": null,
      "outputs": []
    },
    {
      "cell_type": "code",
      "source": "# Scatter plot for True Conversion vs. Predicted Probability\nsns.scatterplot(x='true_conversion', y='predicted_probability', data=df)\nplt.show()",
      "metadata": {
        "trusted": true
      },
      "execution_count": null,
      "outputs": []
    },
    {
      "cell_type": "markdown",
      "source": "# Conversion Prediction Model:",
      "metadata": {}
    },
    {
      "cell_type": "markdown",
      "source": "### Categorical Feature Encoding: \nOne-hot encoding is applied to categorical features using Pandas' get_dummies function to transform them into a suitable format for modeling.",
      "metadata": {}
    },
    {
      "cell_type": "code",
      "source": "df_new = pd.get_dummies(data=df, columns=['gender', 'income', 'area'])\ndf_new",
      "metadata": {
        "trusted": true
      },
      "execution_count": null,
      "outputs": []
    },
    {
      "cell_type": "markdown",
      "source": "#### Data Preparation: \nThe dataset is preprocessed to prepare it for conversion prediction. This includes binarization of the target variable and splitting data into features (X) and the target (y).\n",
      "metadata": {}
    },
    {
      "cell_type": "code",
      "source": "df_new.drop(columns=['religion', 'politics'], axis=1, inplace = True)\ndf_new = df_new.astype(int)\nselected_features = df_new.drop(columns=['predicted_probability', 'predicted_conversion', 'true_conversion'], axis=1)\ny = df_new['true_conversion']\ndf_new",
      "metadata": {
        "trusted": true
      },
      "execution_count": null,
      "outputs": []
    },
    {
      "cell_type": "code",
      "source": "y = df_new['true_conversion'].astype(bool)\nprint(selected_features.dtypes)  # Check data types of selected_features\nprint(y.dtypes)  # Check data type of y\nprint(df.head())  # Print the first few rows of df to verify its contents",
      "metadata": {
        "trusted": true
      },
      "execution_count": null,
      "outputs": []
    },
    {
      "cell_type": "markdown",
      "source": "### Logistic Regression for Conversion Prediction:\nA logistic regression model is employed to predict true conversion based on various features.",
      "metadata": {}
    },
    {
      "cell_type": "code",
      "source": "X_train, X_test, y_train, y_test = train_test_split(selected_features, y, test_size=0.2, random_state=42)",
      "metadata": {
        "trusted": true
      },
      "execution_count": null,
      "outputs": []
    },
    {
      "cell_type": "code",
      "source": "lg_model = LogisticRegression(solver='liblinear', max_iter=4000)\nlg_model.fit(X_train, y_train)",
      "metadata": {
        "trusted": true
      },
      "execution_count": null,
      "outputs": []
    },
    {
      "cell_type": "markdown",
      "source": "#### Performance Metrics: \nThe model's performance is evaluated using metrics like accuracy, mean absolute error (MAE), mean squared error (MSE), and R-squared. These metrics quantify how well the model predicts conversions.\n",
      "metadata": {}
    },
    {
      "cell_type": "code",
      "source": "y_pred = lg_model.predict(X_test)\naccuracy = accuracy_score(y_test, y_pred)\naccuracy",
      "metadata": {
        "trusted": true
      },
      "execution_count": null,
      "outputs": []
    },
    {
      "cell_type": "code",
      "source": "print(type(y_test))\nprint(type(y_pred))\nprint(y_test.shape)\nprint(y_pred.shape)\n",
      "metadata": {
        "trusted": true
      },
      "execution_count": null,
      "outputs": []
    },
    {
      "cell_type": "code",
      "source": "y_test = y_test.astype(float)\ny_pred = y_pred.astype(float)\n",
      "metadata": {
        "trusted": true
      },
      "execution_count": null,
      "outputs": []
    },
    {
      "cell_type": "code",
      "source": "assert y_test.shape == y_pred.shape, \"Shapes of y_test and y_pred do not match.\"\n",
      "metadata": {
        "trusted": true
      },
      "execution_count": null,
      "outputs": []
    },
    {
      "cell_type": "markdown",
      "source": "#### Evaluation and Comparison: \nPerformance metrics are used to assess the model's accuracy and how well it generalizes to unseen data.",
      "metadata": {}
    },
    {
      "cell_type": "code",
      "source": "lg_MAE = metrics.mean_absolute_error(y_test, y_pred)\nprint(\"Mean Absolute Error:\", lg_MAE)",
      "metadata": {
        "trusted": true
      },
      "execution_count": null,
      "outputs": []
    },
    {
      "cell_type": "code",
      "source": "lg_MSE = metrics.mean_squared_error(y_test, y_pred)\nlg_R2 = metrics.r2_score(y_test, y_pred)\nprint(\"Mean Squared Error:\", lg_MSE)\nprint(\"R2 Score:\", lg_R2)",
      "metadata": {
        "trusted": true
      },
      "execution_count": null,
      "outputs": []
    },
    {
      "cell_type": "code",
      "source": "",
      "metadata": {},
      "execution_count": null,
      "outputs": []
    }
  ]
}